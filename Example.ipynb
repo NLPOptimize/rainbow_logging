{
 "cells": [
  {
   "cell_type": "code",
   "execution_count": 1,
   "id": "9e5c0f87-0551-4a1d-be16-c7286a7dfbc5",
   "metadata": {},
   "outputs": [],
   "source": [
    "from rainbow_logging import LoggingConfig, Timezone, verify\n",
    "import logging"
   ]
  },
  {
   "cell_type": "code",
   "execution_count": 2,
   "id": "e35e78b8-9c2c-4db3-8469-df11e5ec0508",
   "metadata": {},
   "outputs": [],
   "source": [
    "LoggingConfig.set_level(LoggingConfig.DEBUG).thread_name(True).traceback(False).asctime(True).finish(Timezone.Asia.Seoul)"
   ]
  },
  {
   "cell_type": "code",
   "execution_count": 3,
   "id": "1663e8f6-f013-4d20-96b3-5853e47e7679",
   "metadata": {},
   "outputs": [
    {
     "name": "stderr",
     "output_type": "stream",
     "text": [
      "\u001b[32m[2025-04-10 03:17:34] [DEBUG]   : This message is a log message. <1067864818.py:<module>(MainThread):1>\u001b[0m\n",
      "\u001b[34m[2025-04-10 03:17:34] [INFO]    : This message is a log message.\u001b[0m\n",
      "\u001b[33m[2025-04-10 03:17:34] [WARNING] : This message is a log message.\u001b[0m\n",
      "\u001b[35m[2025-04-10 03:17:34] [ERROR]   : This message is a log message. <1067864818.py:<module>(MainThread):4>\u001b[0m\n",
      "\u001b[31m[2025-04-10 03:17:34] [CRITICAL]: This message is a log message. </var/folders/kt/nvf3cdt536z3h4tfs78dn2dr0000gn/T/ipykernel_87855/1067864818.py:<module>(MainThread):5>\u001b[0m\n"
     ]
    }
   ],
   "source": [
    "logging.debug('This message is a log message.')\n",
    "logging.info('This message is a log message.')\n",
    "logging.warning('This message is a log message.')\n",
    "logging.error('This message is a log message.')\n",
    "logging.critical('This message is a log message.')"
   ]
  },
  {
   "cell_type": "code",
   "execution_count": 4,
   "id": "8b1d89fa-fb44-4d95-a183-d72fa3f19d25",
   "metadata": {},
   "outputs": [],
   "source": [
    "LoggingConfig.set_level(LoggingConfig.DEBUG).thread_name(True).traceback(False).asctime(False).finish(Timezone.Asia.Seoul)"
   ]
  },
  {
   "cell_type": "code",
   "execution_count": 5,
   "id": "4ff5b53d-7e4c-49da-8b6c-6cca5a2c1b56",
   "metadata": {},
   "outputs": [
    {
     "name": "stderr",
     "output_type": "stream",
     "text": [
      "\u001b[32m[DEBUG]   : This message is a log message. <1067864818.py:<module>(MainThread):1>\u001b[0m\n",
      "\u001b[34m[INFO]    : This message is a log message.\u001b[0m\n",
      "\u001b[33m[WARNING] : This message is a log message.\u001b[0m\n",
      "\u001b[35m[ERROR]   : This message is a log message. <1067864818.py:<module>(MainThread):4>\u001b[0m\n",
      "\u001b[31m[CRITICAL]: This message is a log message. </var/folders/kt/nvf3cdt536z3h4tfs78dn2dr0000gn/T/ipykernel_87855/1067864818.py:<module>(MainThread):5>\u001b[0m\n"
     ]
    }
   ],
   "source": [
    "logging.debug('This message is a log message.')\n",
    "logging.info('This message is a log message.')\n",
    "logging.warning('This message is a log message.')\n",
    "logging.error('This message is a log message.')\n",
    "logging.critical('This message is a log message.')"
   ]
  },
  {
   "cell_type": "code",
   "execution_count": 6,
   "id": "20df84e1-52d3-4162-a460-b038cb63e94d",
   "metadata": {},
   "outputs": [],
   "source": [
    "verify(\"1 < 2\")"
   ]
  },
  {
   "cell_type": "code",
   "execution_count": 7,
   "id": "9942a31d-bbc8-476b-8613-4c86e7445a45",
   "metadata": {},
   "outputs": [
    {
     "name": "stdout",
     "output_type": "stream",
     "text": [
      "\u001b[0;96m[VERIFY]  : (2 < 1) at /var/folders/kt/nvf3cdt536z3h4tfs78dn2dr0000gn/T/ipykernel_87855/3306397126.py:1\u001b[0m\n"
     ]
    }
   ],
   "source": [
    "verify(\"2 < 1\")"
   ]
  },
  {
   "cell_type": "code",
   "execution_count": null,
   "id": "d1421aef-716d-4792-ac3a-e718a8bb13b8",
   "metadata": {},
   "outputs": [],
   "source": []
  }
 ],
 "metadata": {
  "kernelspec": {
   "display_name": "Python 3 (ipykernel)",
   "language": "python",
   "name": "python3"
  },
  "language_info": {
   "codemirror_mode": {
    "name": "ipython",
    "version": 3
   },
   "file_extension": ".py",
   "mimetype": "text/x-python",
   "name": "python",
   "nbconvert_exporter": "python",
   "pygments_lexer": "ipython3",
   "version": "3.12.2"
  }
 },
 "nbformat": 4,
 "nbformat_minor": 5
}
